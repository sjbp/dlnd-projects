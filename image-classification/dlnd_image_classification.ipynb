{
 "cells": [
  {
   "cell_type": "markdown",
   "metadata": {
    "collapsed": true,
    "deletable": true,
    "editable": true
   },
   "source": [
    "# Image Classification\n",
    "In this project, you'll classify images from the [CIFAR-10 dataset](https://www.cs.toronto.edu/~kriz/cifar.html).  The dataset consists of airplanes, dogs, cats, and other objects. You'll preprocess the images, then train a convolutional neural network on all the samples. The images need to be normalized and the labels need to be one-hot encoded.  You'll get to apply what you learned and build a convolutional, max pooling, dropout, and fully connected layers.  At the end, you'll get to see your neural network's predictions on the sample images.\n",
    "## Get the Data\n",
    "Run the following cell to download the [CIFAR-10 dataset for python](https://www.cs.toronto.edu/~kriz/cifar-10-python.tar.gz)."
   ]
  },
  {
   "cell_type": "code",
   "execution_count": 1,
   "metadata": {
    "collapsed": false,
    "deletable": true,
    "editable": true
   },
   "outputs": [
    {
     "name": "stdout",
     "output_type": "stream",
     "text": [
      "All files found!\n"
     ]
    }
   ],
   "source": [
    "\"\"\"\n",
    "DON'T MODIFY ANYTHING IN THIS CELL THAT IS BELOW THIS LINE\n",
    "\"\"\"\n",
    "from urllib.request import urlretrieve\n",
    "from os.path import isfile, isdir\n",
    "from tqdm import tqdm\n",
    "import problem_unittests as tests\n",
    "import tarfile\n",
    "\n",
    "cifar10_dataset_folder_path = 'cifar-10-batches-py'\n",
    "\n",
    "# Use Floyd's cifar-10 dataset if present\n",
    "floyd_cifar10_location = '/input/cifar-10/python.tar.gz'\n",
    "if isfile(floyd_cifar10_location):\n",
    "    tar_gz_path = floyd_cifar10_location\n",
    "else:\n",
    "    tar_gz_path = 'cifar-10-python.tar.gz'\n",
    "\n",
    "class DLProgress(tqdm):\n",
    "    last_block = 0\n",
    "\n",
    "    def hook(self, block_num=1, block_size=1, total_size=None):\n",
    "        self.total = total_size\n",
    "        self.update((block_num - self.last_block) * block_size)\n",
    "        self.last_block = block_num\n",
    "\n",
    "if not isfile(tar_gz_path):\n",
    "    with DLProgress(unit='B', unit_scale=True, miniters=1, desc='CIFAR-10 Dataset') as pbar:\n",
    "        urlretrieve(\n",
    "            'https://www.cs.toronto.edu/~kriz/cifar-10-python.tar.gz',\n",
    "            tar_gz_path,\n",
    "            pbar.hook)\n",
    "\n",
    "if not isdir(cifar10_dataset_folder_path):\n",
    "    with tarfile.open(tar_gz_path) as tar:\n",
    "        tar.extractall()\n",
    "        tar.close()\n",
    "\n",
    "\n",
    "tests.test_folder_path(cifar10_dataset_folder_path)"
   ]
  },
  {
   "cell_type": "markdown",
   "metadata": {
    "deletable": true,
    "editable": true
   },
   "source": [
    "## Explore the Data\n",
    "The dataset is broken into batches to prevent your machine from running out of memory.  The CIFAR-10 dataset consists of 5 batches, named `data_batch_1`, `data_batch_2`, etc.. Each batch contains the labels and images that are one of the following:\n",
    "* airplane\n",
    "* automobile\n",
    "* bird\n",
    "* cat\n",
    "* deer\n",
    "* dog\n",
    "* frog\n",
    "* horse\n",
    "* ship\n",
    "* truck\n",
    "\n",
    "Understanding a dataset is part of making predictions on the data.  Play around with the code cell below by changing the `batch_id` and `sample_id`. The `batch_id` is the id for a batch (1-5). The `sample_id` is the id for a image and label pair in the batch.\n",
    "\n",
    "Ask yourself \"What are all possible labels?\", \"What is the range of values for the image data?\", \"Are the labels in order or random?\".  Answers to questions like these will help you preprocess the data and end up with better predictions."
   ]
  },
  {
   "cell_type": "code",
   "execution_count": 2,
   "metadata": {
    "collapsed": false,
    "deletable": true,
    "editable": true
   },
   "outputs": [
    {
     "name": "stdout",
     "output_type": "stream",
     "text": [
      "\n",
      "Stats of batch 2:\n",
      "Samples: 10000\n",
      "Label Counts: {0: 984, 1: 1007, 2: 1010, 3: 995, 4: 1010, 5: 988, 6: 1008, 7: 1026, 8: 987, 9: 985}\n",
      "First 20 Labels: [1, 6, 6, 8, 8, 3, 4, 6, 0, 6, 0, 3, 6, 6, 5, 4, 8, 3, 2, 6]\n",
      "\n",
      "Example of Image 5:\n",
      "Image - Min Value: 3 Max Value: 219\n",
      "Image - Shape: (32, 32, 3)\n",
      "Label - Label Id: 3 Name: cat\n"
     ]
    },
    {
     "data": {
      "image/png": "[encoded data removed]",
      "text/plain": [
       "<matplotlib.figure.Figure at 0x7ff2d870b940>"
      ]
     },
     "metadata": {
      "image/png": {
       "height": 250,
       "width": 253
      }
     },
     "output_type": "display_data"
    }
   ],
   "source": [
    "%matplotlib inline\n",
    "%config InlineBackend.figure_format = 'retina'\n",
    "\n",
    "import helper\n",
    "import numpy as np\n",
    "\n",
    "# Explore the dataset\n",
    "batch_id = 2\n",
    "sample_id = 5\n",
    "helper.display_stats(cifar10_dataset_folder_path, batch_id, sample_id)"
   ]
  },
  {
   "cell_type": "markdown",
   "metadata": {
    "deletable": true,
    "editable": true
   },
   "source": [
    "## Implement Preprocess Functions\n",
    "### Normalize\n",
    "In the cell below, implement the `normalize` function to take in image data, `x`, and return it as a normalized Numpy array. The values should be in the range of 0 to 1, inclusive.  The return object should be the same shape as `x`."
   ]
  },
  {
   "cell_type": "code",
   "execution_count": 31,
   "metadata": {
    "collapsed": false,
    "deletable": true,
    "editable": true
   },
   "outputs": [
    {
     "name": "stdout",
     "output_type": "stream",
     "text": [
      "Tests Passed\n"
     ]
    }
   ],
   "source": [
    "def normalize(x):\n",
    "    \"\"\"\n",
    "    Normalize a list of sample image data in the range of 0 to 1\n",
    "    : x: List of image data.  The image shape is (32, 32, 3)\n",
    "    : return: Numpy array of normalize data\n",
    "    \"\"\"\n",
    "    max_val = 255  # np.max(x)\n",
    "    min_val = 0    # np.min(x)\n",
    "    normalized_x = (np.array(x) - min_val) / (max_val - min_val)\n",
    "    \n",
    "    return normalized_x\n",
    "\n",
    "\n",
    "\"\"\"\n",
    "DON'T MODIFY ANYTHING IN THIS CELL THAT IS BELOW THIS LINE\n",
    "\"\"\"\n",
    "tests.test_normalize(normalize)"
   ]
  },
  {
   "cell_type": "markdown",
   "metadata": {
    "deletable": true,
    "editable": true
   },
   "source": [
    "### One-hot encode\n",
    "Just like the previous code cell, you'll be implementing a function for preprocessing.  This time, you'll implement the `one_hot_encode` function. The input, `x`, are a list of labels.  Implement the function to return the list of labels as One-Hot encoded Numpy array.  The possible values for labels are 0 to 9. The one-hot encoding function should return the same encoding for each value between each call to `one_hot_encode`.  Make sure to save the map of encodings outside the function.\n",
    "\n",
    "Hint: Don't reinvent the wheel."
   ]
  },
  {
   "cell_type": "code",
   "execution_count": 32,
   "metadata": {
    "collapsed": false,
    "deletable": true,
    "editable": true
   },
   "outputs": [
    {
     "name": "stdout",
     "output_type": "stream",
     "text": [
      "Tests Passed\n"
     ]
    }
   ],
   "source": [
    "from sklearn import preprocessing\n",
    "\n",
    "n_classes=10\n",
    "enc = preprocessing.OneHotEncoder(n_values=n_classes)  # encoder\n",
    "enc.fit(np.array(range(n_classes)).reshape(-1, 1))\n",
    "enc_map = {i: enc.transform(i).toarray().reshape(-1) for i in range(10)}  # map of encoder\n",
    "\n",
    "def one_hot_encode(x):\n",
    "    \"\"\"\n",
    "    One hot encode a list of sample labels. Return a one-hot encoded vector for each label.\n",
    "    : x: List of sample Labels\n",
    "    : return: Numpy array of one-hot encoded labels\n",
    "    \"\"\"\n",
    "    reshaped_x = np.array(x).reshape(-1, 1)  # one row per sample\n",
    "    one_hot_x = enc.transform(reshaped_x).toarray()\n",
    "    return one_hot_x\n",
    "\n",
    "\n",
    "\"\"\"\n",
    "DON'T MODIFY ANYTHING IN THIS CELL THAT IS BELOW THIS LINE\n",
    "\"\"\"\n",
    "tests.test_one_hot_encode(one_hot_encode)"
   ]
  },
  {
   "cell_type": "markdown",
   "metadata": {
    "deletable": true,
    "editable": true
   },
   "source": [
    "### Randomize Data\n",
    "As you saw from exploring the data above, the order of the samples are randomized.  It doesn't hurt to randomize it again, but you don't need to for this dataset."
   ]
  },
  {
   "cell_type": "markdown",
   "metadata": {
    "deletable": true,
    "editable": true
   },
   "source": [
    "## Preprocess all the data and save it\n",
    "Running the code cell below will preprocess all the CIFAR-10 data and save it to file. The code below also uses 10% of the training data for validation."
   ]
  },
  {
   "cell_type": "code",
   "execution_count": 33,
   "metadata": {
    "collapsed": false,
    "deletable": true,
    "editable": true
   },
   "outputs": [],
   "source": [
    "\"\"\"\n",
    "DON'T MODIFY ANYTHING IN THIS CELL\n",
    "\"\"\"\n",
    "# Preprocess Training, Validation, and Testing Data\n",
    "helper.preprocess_and_save_data(cifar10_dataset_folder_path, normalize, one_hot_encode)"
   ]
  },
  {
   "cell_type": "markdown",
   "metadata": {
    "deletable": true,
    "editable": true
   },
   "source": [
    "# Check Point\n",
    "This is your first checkpoint.  If you ever decide to come back to this notebook or have to restart the notebook, you can start from here.  The preprocessed data has been saved to disk."
   ]
  },
  {
   "cell_type": "code",
   "execution_count": 34,
   "metadata": {
    "collapsed": true,
    "deletable": true,
    "editable": true
   },
   "outputs": [],
   "source": [
    "\"\"\"\n",
    "DON'T MODIFY ANYTHING IN THIS CELL\n",
    "\"\"\"\n",
    "import pickle\n",
    "import problem_unittests as tests\n",
    "import helper\n",
    "\n",
    "# Load the Preprocessed Validation data\n",
    "valid_features, valid_labels = pickle.load(open('preprocess_validation.p', mode='rb'))"
   ]
  },
  {
   "cell_type": "markdown",
   "metadata": {
    "deletable": true,
    "editable": true
   },
   "source": [
    "## Build the network\n",
    "For the neural network, you'll build each layer into a function.  Most of the code you've seen has been outside of functions. To test your code more thoroughly, we require that you put each layer in a function.  This allows us to give you better feedback and test for simple mistakes using our unittests before you submit your project.\n",
    "\n",
    ">**Note:** If you're finding it hard to dedicate enough time for this course each week, we've provided a small shortcut to this part of the project. In the next couple of problems, you'll have the option to use classes from the [TensorFlow Layers](https://www.tensorflow.org/api_docs/python/tf/layers) or [TensorFlow Layers (contrib)](https://www.tensorflow.org/api_guides/python/contrib.layers) packages to build each layer, except the layers you build in the \"Convolutional and Max Pooling Layer\" section.  TF Layers is similar to Keras's and TFLearn's abstraction to layers, so it's easy to pickup.\n",
    "\n",
    ">However, if you would like to get the most out of this course, try to solve all the problems _without_ using anything from the TF Layers packages. You **can** still use classes from other packages that happen to have the same name as ones you find in TF Layers! For example, instead of using the TF Layers version of the `conv2d` class, [tf.layers.conv2d](https://www.tensorflow.org/api_docs/python/tf/layers/conv2d), you would want to use the TF Neural Network version of `conv2d`, [tf.nn.conv2d](https://www.tensorflow.org/api_docs/python/tf/nn/conv2d). \n",
    "\n",
    "Let's begin!\n",
    "\n",
    "### Input\n",
    "The neural network needs to read the image data, one-hot encoded labels, and dropout keep probability. Implement the following functions\n",
    "* Implement `neural_net_image_input`\n",
    " * Return a [TF Placeholder](https://www.tensorflow.org/api_docs/python/tf/placeholder)\n",
    " * Set the shape using `image_shape` with batch size set to `None`.\n",
    " * Name the TensorFlow placeholder \"x\" using the TensorFlow `name` parameter in the [TF Placeholder](https://www.tensorflow.org/api_docs/python/tf/placeholder).\n",
    "* Implement `neural_net_label_input`\n",
    " * Return a [TF Placeholder](https://www.tensorflow.org/api_docs/python/tf/placeholder)\n",
    " * Set the shape using `n_classes` with batch size set to `None`.\n",
    " * Name the TensorFlow placeholder \"y\" using the TensorFlow `name` parameter in the [TF Placeholder](https://www.tensorflow.org/api_docs/python/tf/placeholder).\n",
    "* Implement `neural_net_keep_prob_input`\n",
    " * Return a [TF Placeholder](https://www.tensorflow.org/api_docs/python/tf/placeholder) for dropout keep probability.\n",
    " * Name the TensorFlow placeholder \"keep_prob\" using the TensorFlow `name` parameter in the [TF Placeholder](https://www.tensorflow.org/api_docs/python/tf/placeholder).\n",
    "\n",
    "These names will be used at the end of the project to load your saved model.\n",
    "\n",
    "Note: `None` for shapes in TensorFlow allow for a dynamic size."
   ]
  },
  {
   "cell_type": "code",
   "execution_count": 35,
   "metadata": {
    "collapsed": false,
    "deletable": true,
    "editable": true
   },
   "outputs": [
    {
     "name": "stdout",
     "output_type": "stream",
     "text": [
      "Image Input Tests Passed.\n",
      "Label Input Tests Passed.\n",
      "Keep Prob Tests Passed.\n"
     ]
    }
   ],
   "source": [
    "import tensorflow as tf\n",
    "\n",
    "def neural_net_image_input(image_shape):\n",
    "    \"\"\"\n",
    "    Return a Tensor for a batch of image input\n",
    "    : image_shape: Shape of the images\n",
    "    : return: Tensor for image input.\n",
    "    \"\"\"\n",
    "    shape = [None] + list(image_shape)\n",
    "    return tf.placeholder(tf.float32, shape=shape, name='x')\n",
    "\n",
    "\n",
    "def neural_net_label_input(n_classes):\n",
    "    \"\"\"\n",
    "    Return a Tensor for a batch of label input\n",
    "    : n_classes: Number of classes\n",
    "    : return: Tensor for label input.\n",
    "    \"\"\"\n",
    "    return tf.placeholder(tf.float32, shape=[None, n_classes], name='y')\n",
    "\n",
    "\n",
    "def neural_net_keep_prob_input():\n",
    "    \"\"\"\n",
    "    Return a Tensor for keep probability\n",
    "    : return: Tensor for keep probability.\n",
    "    \"\"\"\n",
    "    return tf.placeholder(tf.float32, name='keep_prob')\n",
    "\n",
    "\n",
    "\"\"\"\n",
    "DON'T MODIFY ANYTHING IN THIS CELL THAT IS BELOW THIS LINE\n",
    "\"\"\"\n",
    "tf.reset_default_graph()\n",
    "tests.test_nn_image_inputs(neural_net_image_input)\n",
    "tests.test_nn_label_inputs(neural_net_label_input)\n",
    "tests.test_nn_keep_prob_inputs(neural_net_keep_prob_input)"
   ]
  },
  {
   "cell_type": "markdown",
   "metadata": {
    "deletable": true,
    "editable": true
   },
   "source": [
    "### Convolution and Max Pooling Layer\n",
    "Convolution layers have a lot of success with images. For this code cell, you should implement the function `conv2d_maxpool` to apply convolution then max pooling:\n",
    "* Create the weight and bias using `conv_ksize`, `conv_num_outputs` and the shape of `x_tensor`.\n",
    "* Apply a convolution to `x_tensor` using weight and `conv_strides`.\n",
    " * We recommend you use same padding, but you're welcome to use any padding.\n",
    "* Add bias\n",
    "* Add a nonlinear activation to the convolution.\n",
    "* Apply Max Pooling using `pool_ksize` and `pool_strides`.\n",
    " * We recommend you use same padding, but you're welcome to use any padding.\n",
    "\n",
    "**Note:** You **can't** use [TensorFlow Layers](https://www.tensorflow.org/api_docs/python/tf/layers) or [TensorFlow Layers (contrib)](https://www.tensorflow.org/api_guides/python/contrib.layers) for **this** layer, but you can still use TensorFlow's [Neural Network](https://www.tensorflow.org/api_docs/python/tf/nn) package. You may still use the shortcut option for all the **other** layers."
   ]
  },
  {
   "cell_type": "code",
   "execution_count": 46,
   "metadata": {
    "collapsed": false,
    "deletable": true,
    "editable": true
   },
   "outputs": [
    {
     "name": "stdout",
     "output_type": "stream",
     "text": [
      "Tests Passed\n"
     ]
    }
   ],
   "source": [
    "def conv2d_maxpool(x_tensor, conv_num_outputs, conv_ksize, conv_strides, pool_ksize, pool_strides):\n",
    "    \"\"\"\n",
    "    Apply convolution then max pooling to x_tensor\n",
    "    :param x_tensor: TensorFlow Tensor\n",
    "    :param conv_num_outputs: Number of outputs for the convolutional layer\n",
    "    :param conv_ksize: kernal size 2-D Tuple for the convolutional layer\n",
    "    :param conv_strides: Stride 2-D Tuple for convolution\n",
    "    :param pool_ksize: kernal size 2-D Tuple for pool\n",
    "    :param pool_strides: Stride 2-D Tuple for pool\n",
    "    : return: A tensor that represents convolution and max pooling of x_tensor\n",
    "    \"\"\"\n",
    "    # weight\n",
    "    x_depth = x_tensor.get_shape().as_list()[-1]  # 3 for color images\n",
    "    weight_shape = list(conv_ksize) + [x_depth, conv_num_outputs]\n",
    "    weight = tf.Variable(tf.truncated_normal(weight_shape, stddev=0.01))\n",
    "    \n",
    "    # bias\n",
    "    bias = tf.Variable(tf.zeros(conv_num_outputs))\n",
    "    \n",
    "    # convolution - 32*32*3 to *(conv_ksize)*conv_num_outputs\n",
    "    conv = tf.nn.conv2d(x_tensor, weight, strides=[1, conv_strides[0], conv_strides[1], 1],\n",
    "                        padding='SAME')\n",
    "    \n",
    "    # add bias\n",
    "    conv = tf.nn.bias_add(conv, bias)\n",
    "    \n",
    "    # add relu layer\n",
    "    conv = tf.nn.relu(conv)\n",
    "    \n",
    "    # max pooling\n",
    "    conv_maxpool = tf.nn.max_pool(conv, ksize=[1, pool_ksize[0], pool_ksize[1], 1],\n",
    "                                  strides=[1, pool_strides[0], pool_strides[1], 1],\n",
    "                                  padding='SAME')\n",
    "    \n",
    "    return conv_maxpool\n",
    "\n",
    "\n",
    "\"\"\"\n",
    "DON'T MODIFY ANYTHING IN THIS CELL THAT IS BELOW THIS LINE\n",
    "\"\"\"\n",
    "tests.test_con_pool(conv2d_maxpool)"
   ]
  },
  {
   "cell_type": "markdown",
   "metadata": {
    "deletable": true,
    "editable": true
   },
   "source": [
    "### Flatten Layer\n",
    "Implement the `flatten` function to change the dimension of `x_tensor` from a 4-D tensor to a 2-D tensor.  The output should be the shape (*Batch Size*, *Flattened Image Size*). Shortcut option: you can use classes from the [TensorFlow Layers](https://www.tensorflow.org/api_docs/python/tf/layers) or [TensorFlow Layers (contrib)](https://www.tensorflow.org/api_guides/python/contrib.layers) packages for this layer. For more of a challenge, only use other TensorFlow packages."
   ]
  },
  {
   "cell_type": "code",
   "execution_count": 47,
   "metadata": {
    "collapsed": false,
    "deletable": true,
    "editable": true
   },
   "outputs": [
    {
     "name": "stdout",
     "output_type": "stream",
     "text": [
      "Tests Passed\n"
     ]
    }
   ],
   "source": [
    "def flatten(x_tensor):\n",
    "    \"\"\"\n",
    "    Flatten x_tensor to (Batch Size, Flattened Image Size)\n",
    "    : x_tensor: A tensor of size (Batch Size, ...), where ... are the image dimensions.\n",
    "    : return: A tensor of size (Batch Size, Flattened Image Size).\n",
    "    \"\"\"\n",
    "    dim = np.prod(x_tensor.get_shape().as_list()[1:])\n",
    "    return tf.reshape(x_tensor, shape=[-1, dim])\n",
    "\n",
    "\n",
    "\"\"\"\n",
    "DON'T MODIFY ANYTHING IN THIS CELL THAT IS BELOW THIS LINE\n",
    "\"\"\"\n",
    "tests.test_flatten(flatten)"
   ]
  },
  {
   "cell_type": "markdown",
   "metadata": {
    "deletable": true,
    "editable": true
   },
   "source": [
    "### Fully-Connected Layer\n",
    "Implement the `fully_conn` function to apply a fully connected layer to `x_tensor` with the shape (*Batch Size*, *num_outputs*). Shortcut option: you can use classes from the [TensorFlow Layers](https://www.tensorflow.org/api_docs/python/tf/layers) or [TensorFlow Layers (contrib)](https://www.tensorflow.org/api_guides/python/contrib.layers) packages for this layer. For more of a challenge, only use other TensorFlow packages."
   ]
  },
  {
   "cell_type": "code",
   "execution_count": 48,
   "metadata": {
    "collapsed": false,
    "deletable": true,
    "editable": true
   },
   "outputs": [
    {
     "name": "stdout",
     "output_type": "stream",
     "text": [
      "Tests Passed\n"
     ]
    }
   ],
   "source": [
    "def fully_conn(x_tensor, num_outputs):\n",
    "    \"\"\"\n",
    "    Apply a fully connected layer to x_tensor using weight and bias\n",
    "    : x_tensor: A 2-D tensor where the first dimension is batch size.\n",
    "    : num_outputs: The number of output that the new tensor should be.\n",
    "    : return: A 2-D tensor where the second dimension is num_outputs.\n",
    "    \"\"\"\n",
    "    x_length = x_tensor.get_shape().as_list()[-1]\n",
    "    weight_fc = tf.Variable(tf.truncated_normal([x_length, num_outputs], stddev=0.01))\n",
    "    bias_fc = tf.Variable(tf.zeros(num_outputs))\n",
    "    \n",
    "    fc_layer = tf.add(tf.matmul(x_tensor, weight_fc), bias_fc)\n",
    "    fc_layer = tf.nn.relu(fc_layer)  # non-linear activation\n",
    "    return fc_layer\n",
    "\n",
    "\n",
    "\"\"\"\n",
    "DON'T MODIFY ANYTHING IN THIS CELL THAT IS BELOW THIS LINE\n",
    "\"\"\"\n",
    "tests.test_fully_conn(fully_conn)"
   ]
  },
  {
   "cell_type": "markdown",
   "metadata": {
    "deletable": true,
    "editable": true
   },
   "source": [
    "### Output Layer\n",
    "Implement the `output` function to apply a fully connected layer to `x_tensor` with the shape (*Batch Size*, *num_outputs*). Shortcut option: you can use classes from the [TensorFlow Layers](https://www.tensorflow.org/api_docs/python/tf/layers) or [TensorFlow Layers (contrib)](https://www.tensorflow.org/api_guides/python/contrib.layers) packages for this layer. For more of a challenge, only use other TensorFlow packages.\n",
    "\n",
    "**Note:** Activation, softmax, or cross entropy should **not** be applied to this."
   ]
  },
  {
   "cell_type": "code",
   "execution_count": 49,
   "metadata": {
    "collapsed": false,
    "deletable": true,
    "editable": true
   },
   "outputs": [
    {
     "name": "stdout",
     "output_type": "stream",
     "text": [
      "Tests Passed\n"
     ]
    }
   ],
   "source": [
    "def output(x_tensor, num_outputs):\n",
    "    \"\"\"\n",
    "    Apply a output layer to x_tensor using weight and bias\n",
    "    : x_tensor: A 2-D tensor where the first dimension is batch size.\n",
    "    : num_outputs: The number of output that the new tensor should be.\n",
    "    : return: A 2-D tensor where the second dimension is num_outputs.\n",
    "    \"\"\"\n",
    "    x_length = x_tensor.get_shape().as_list()[-1]\n",
    "    weight_out = tf.Variable(tf.truncated_normal([x_length, num_outputs], stddev=0.01))\n",
    "    bias_out = tf.Variable(tf.zeros(num_outputs))\n",
    "    return tf.add(tf.matmul(x_tensor, weight_out), bias_out)\n",
    "\n",
    "\n",
    "\"\"\"\n",
    "DON'T MODIFY ANYTHING IN THIS CELL THAT IS BELOW THIS LINE\n",
    "\"\"\"\n",
    "tests.test_output(output)"
   ]
  },
  {
   "cell_type": "markdown",
   "metadata": {
    "deletable": true,
    "editable": true
   },
   "source": [
    "### Create Convolutional Model\n",
    "Implement the function `conv_net` to create a convolutional neural network model. The function takes in a batch of images, `x`, and outputs logits.  Use the layers you created above to create this model:\n",
    "\n",
    "* Apply 1, 2, or 3 Convolution and Max Pool layers\n",
    "* Apply a Flatten Layer\n",
    "* Apply 1, 2, or 3 Fully Connected Layers\n",
    "* Apply an Output Layer\n",
    "* Return the output\n",
    "* Apply [TensorFlow's Dropout](https://www.tensorflow.org/api_docs/python/tf/nn/dropout) to one or more layers in the model using `keep_prob`. "
   ]
  },
  {
   "cell_type": "code",
   "execution_count": 77,
   "metadata": {
    "collapsed": false,
    "deletable": true,
    "editable": true
   },
   "outputs": [
    {
     "name": "stdout",
     "output_type": "stream",
     "text": [
      "Neural Network Built!\n"
     ]
    }
   ],
   "source": [
    "def conv_net(x, keep_prob):\n",
    "    \"\"\"\n",
    "    Create a convolutional neural network model\n",
    "    : x: Placeholder tensor that holds image data.\n",
    "    : keep_prob: Placeholder tensor that hold dropout keep probability.\n",
    "    : return: Tensor that represents logits\n",
    "    \"\"\"\n",
    "    # TODO: Apply 1, 2, or 3 Convolution and Max Pool layers\n",
    "    # Conv Layer 1 - 32*32*5 to 32*32*128 to 16*16*128\n",
    "    conv1 = conv2d_maxpool(x, conv_num_outputs=128, conv_ksize=[5,5],\n",
    "                           conv_strides=[1,1], pool_ksize=[2,2],\n",
    "                           pool_strides=[2,2])\n",
    "    conv1 = tf.nn.dropout(conv1, keep_prob)\n",
    "    \n",
    "    # Conv Layer 2 - 16*16*128 to 16*16*256 to 8*8*256\n",
    "    conv2 = conv2d_maxpool(conv1, conv_num_outputs=256, conv_ksize=[5,5],\n",
    "                           conv_strides=[1,1], pool_ksize=[2,2],\n",
    "                           pool_strides=[2,2])\n",
    "    conv2 = tf.nn.dropout(conv2, keep_prob)\n",
    "\n",
    "    # TODO: Apply a Flatten Layer\n",
    "    flattened = flatten(conv2)\n",
    "\n",
    "    # TODO: Apply 1, 2, or 3 Fully Connected Layers\n",
    "    fully_conn1 = fully_conn(flattened, num_outputs=1024)\n",
    "    fully_conn1 = tf.nn.dropout(fully_conn1, keep_prob)\n",
    "    \n",
    "#     fully_conn2 = fully_conn(fully_conn1, num_outputs=128)\n",
    "#     fully_conn2 = tf.nn.dropout(fully_conn2, keep_prob)\n",
    "    \n",
    "    # TODO: Apply an Output Layer\n",
    "    out = output(fully_conn1, num_outputs=10)\n",
    "    \n",
    "    return out\n",
    "\n",
    "\n",
    "\"\"\"\n",
    "DON'T MODIFY ANYTHING IN THIS CELL THAT IS BELOW THIS LINE\n",
    "\"\"\"\n",
    "\n",
    "##############################\n",
    "## Build the Neural Network ##\n",
    "##############################\n",
    "\n",
    "# Remove previous weights, bias, inputs, etc..\n",
    "tf.reset_default_graph()\n",
    "\n",
    "# Inputs\n",
    "x = neural_net_image_input((32, 32, 3))\n",
    "y = neural_net_label_input(10)\n",
    "keep_prob = neural_net_keep_prob_input()\n",
    "\n",
    "# Model\n",
    "logits = conv_net(x, keep_prob)\n",
    "\n",
    "# Name logits Tensor, so that is can be loaded from disk after training\n",
    "logits = tf.identity(logits, name='logits')\n",
    "\n",
    "# Loss and Optimizer\n",
    "cost = tf.reduce_mean(tf.nn.softmax_cross_entropy_with_logits(logits=logits, labels=y))\n",
    "optimizer = tf.train.AdamOptimizer().minimize(cost)\n",
    "\n",
    "# Accuracy\n",
    "correct_pred = tf.equal(tf.argmax(logits, 1), tf.argmax(y, 1))\n",
    "accuracy = tf.reduce_mean(tf.cast(correct_pred, tf.float32), name='accuracy')\n",
    "\n",
    "tests.test_conv_net(conv_net)"
   ]
  },
  {
   "cell_type": "markdown",
   "metadata": {
    "deletable": true,
    "editable": true
   },
   "source": [
    "## Train the Neural Network\n",
    "### Single Optimization\n",
    "Implement the function `train_neural_network` to do a single optimization.  The optimization should use `optimizer` to optimize in `session` with a `feed_dict` of the following:\n",
    "* `x` for image input\n",
    "* `y` for labels\n",
    "* `keep_prob` for keep probability for dropout\n",
    "\n",
    "This function will be called for each batch, so `tf.global_variables_initializer()` has already been called.\n",
    "\n",
    "Note: Nothing needs to be returned. This function is only optimizing the neural network."
   ]
  },
  {
   "cell_type": "code",
   "execution_count": 78,
   "metadata": {
    "collapsed": false,
    "deletable": true,
    "editable": true
   },
   "outputs": [
    {
     "name": "stdout",
     "output_type": "stream",
     "text": [
      "Tests Passed\n"
     ]
    }
   ],
   "source": [
    "def train_neural_network(session, optimizer, keep_probability, feature_batch, label_batch):\n",
    "    \"\"\"\n",
    "    Optimize the session on a batch of images and labels\n",
    "    : session: Current TensorFlow session\n",
    "    : optimizer: TensorFlow optimizer function\n",
    "    : keep_probability: keep probability\n",
    "    : feature_batch: Batch of Numpy image data\n",
    "    : label_batch: Batch of Numpy label data\n",
    "    \"\"\"\n",
    "    session.run(optimizer, feed_dict={x: feature_batch, y: label_batch,\n",
    "                                   keep_prob: keep_probability})\n",
    "    return\n",
    "\n",
    "\n",
    "\"\"\"\n",
    "DON'T MODIFY ANYTHING IN THIS CELL THAT IS BELOW THIS LINE\n",
    "\"\"\"\n",
    "tests.test_train_nn(train_neural_network)"
   ]
  },
  {
   "cell_type": "markdown",
   "metadata": {
    "deletable": true,
    "editable": true
   },
   "source": [
    "### Show Stats\n",
    "Implement the function `print_stats` to print loss and validation accuracy.  Use the global variables `valid_features` and `valid_labels` to calculate validation accuracy.  Use a keep probability of `1.0` to calculate the loss and validation accuracy."
   ]
  },
  {
   "cell_type": "code",
   "execution_count": 79,
   "metadata": {
    "collapsed": false,
    "deletable": true,
    "editable": true
   },
   "outputs": [],
   "source": [
    "def print_stats(session, feature_batch, label_batch, cost, accuracy):\n",
    "    \"\"\"\n",
    "    Print information about loss and validation accuracy\n",
    "    : session: Current TensorFlow session\n",
    "    : feature_batch: Batch of Numpy image data\n",
    "    : label_batch: Batch of Numpy label data\n",
    "    : cost: TensorFlow cost function\n",
    "    : accuracy: TensorFlow accuracy function\n",
    "    \"\"\"\n",
    "    loss = session.run(cost, feed_dict={\n",
    "        x: feature_batch, y: label_batch, keep_prob: 1.0})\n",
    "    valid_acc = session.run(accuracy, feed_dict={\n",
    "        x: valid_features, y: valid_labels, keep_prob: 1.0})\n",
    "\n",
    "    print('Loss: {:>10.4f} Validation Accuracy: {:.6f}'.format(\n",
    "        loss, valid_acc))\n",
    "    return"
   ]
  },
  {
   "cell_type": "markdown",
   "metadata": {
    "deletable": true,
    "editable": true
   },
   "source": [
    "### Hyperparameters\n",
    "Tune the following parameters:\n",
    "* Set `epochs` to the number of iterations until the network stops learning or start overfitting\n",
    "* Set `batch_size` to the highest number that your machine has memory for.  Most people set them to common sizes of memory:\n",
    " * 64\n",
    " * 128\n",
    " * 256\n",
    " * ...\n",
    "* Set `keep_probability` to the probability of keeping a node using dropout"
   ]
  },
  {
   "cell_type": "code",
   "execution_count": 80,
   "metadata": {
    "collapsed": true,
    "deletable": true,
    "editable": true
   },
   "outputs": [],
   "source": [
    "# TODO: Tune Parameters\n",
    "epochs = 50\n",
    "batch_size = 128\n",
    "keep_probability = 0.5"
   ]
  },
  {
   "cell_type": "markdown",
   "metadata": {
    "deletable": true,
    "editable": true
   },
   "source": [
    "### Train on a Single CIFAR-10 Batch\n",
    "Instead of training the neural network on all the CIFAR-10 batches of data, let's use a single batch. This should save time while you iterate on the model to get a better accuracy.  Once the final validation accuracy is 50% or greater, run the model on all the data in the next section."
   ]
  },
  {
   "cell_type": "code",
   "execution_count": 81,
   "metadata": {
    "collapsed": false,
    "deletable": true,
    "editable": true
   },
   "outputs": [
    {
     "name": "stdout",
     "output_type": "stream",
     "text": [
      "Checking the Training on a Single Batch...\n",
      "Epoch  1, CIFAR-10 Batch 1:  Loss:     2.0995 Validation Accuracy: 0.336200\n",
      "Epoch  2, CIFAR-10 Batch 1:  Loss:     1.8663 Validation Accuracy: 0.410600\n",
      "Epoch  3, CIFAR-10 Batch 1:  Loss:     1.8005 Validation Accuracy: 0.428600\n",
      "Epoch  4, CIFAR-10 Batch 1:  Loss:     1.6461 Validation Accuracy: 0.467800\n",
      "Epoch  5, CIFAR-10 Batch 1:  Loss:     1.5872 Validation Accuracy: 0.494000\n",
      "Epoch  6, CIFAR-10 Batch 1:  Loss:     1.2653 Validation Accuracy: 0.512800\n",
      "Epoch  7, CIFAR-10 Batch 1:  Loss:     1.2449 Validation Accuracy: 0.530600\n",
      "Epoch  8, CIFAR-10 Batch 1:  Loss:     1.1809 Validation Accuracy: 0.541000\n",
      "Epoch  9, CIFAR-10 Batch 1:  Loss:     1.0926 Validation Accuracy: 0.528800\n",
      "Epoch 10, CIFAR-10 Batch 1:  Loss:     0.7834 Validation Accuracy: 0.562600\n",
      "Epoch 11, CIFAR-10 Batch 1:  Loss:     0.7436 Validation Accuracy: 0.557800\n",
      "Epoch 12, CIFAR-10 Batch 1:  Loss:     0.6228 Validation Accuracy: 0.573600\n",
      "Epoch 13, CIFAR-10 Batch 1:  Loss:     0.6861 Validation Accuracy: 0.573000\n",
      "Epoch 14, CIFAR-10 Batch 1:  Loss:     0.3939 Validation Accuracy: 0.578200\n",
      "Epoch 15, CIFAR-10 Batch 1:  Loss:     0.4485 Validation Accuracy: 0.585600\n",
      "Epoch 16, CIFAR-10 Batch 1:  Loss:     0.3632 Validation Accuracy: 0.601400\n",
      "Epoch 17, CIFAR-10 Batch 1:  Loss:     0.2483 Validation Accuracy: 0.599400\n",
      "Epoch 18, CIFAR-10 Batch 1:  Loss:     0.4056 Validation Accuracy: 0.606000\n",
      "Epoch 19, CIFAR-10 Batch 1:  Loss:     0.2948 Validation Accuracy: 0.600400\n",
      "Epoch 20, CIFAR-10 Batch 1:  Loss:     0.1357 Validation Accuracy: 0.600000\n",
      "Epoch 21, CIFAR-10 Batch 1:  Loss:     0.1515 Validation Accuracy: 0.606600\n",
      "Epoch 22, CIFAR-10 Batch 1:  Loss:     0.2101 Validation Accuracy: 0.597600\n",
      "Epoch 23, CIFAR-10 Batch 1:  Loss:     0.1088 Validation Accuracy: 0.607200\n",
      "Epoch 24, CIFAR-10 Batch 1:  Loss:     0.1216 Validation Accuracy: 0.606400\n",
      "Epoch 25, CIFAR-10 Batch 1:  Loss:     0.1825 Validation Accuracy: 0.595400\n",
      "Epoch 26, CIFAR-10 Batch 1:  Loss:     0.0805 Validation Accuracy: 0.599200\n",
      "Epoch 27, CIFAR-10 Batch 1:  Loss:     0.1499 Validation Accuracy: 0.602400\n",
      "Epoch 28, CIFAR-10 Batch 1:  Loss:     0.2022 Validation Accuracy: 0.606000\n",
      "Epoch 29, CIFAR-10 Batch 1:  Loss:     0.1349 Validation Accuracy: 0.612400\n",
      "Epoch 30, CIFAR-10 Batch 1:  Loss:     0.0993 Validation Accuracy: 0.591400\n",
      "Epoch 31, CIFAR-10 Batch 1:  Loss:     0.1256 Validation Accuracy: 0.597200\n",
      "Epoch 32, CIFAR-10 Batch 1:  Loss:     0.1088 Validation Accuracy: 0.595000\n",
      "Epoch 33, CIFAR-10 Batch 1:  Loss:     0.0961 Validation Accuracy: 0.604200\n",
      "Epoch 34, CIFAR-10 Batch 1:  Loss:     0.0939 Validation Accuracy: 0.595800\n",
      "Epoch 35, CIFAR-10 Batch 1:  Loss:     0.1005 Validation Accuracy: 0.576000\n",
      "Epoch 36, CIFAR-10 Batch 1:  Loss:     0.1249 Validation Accuracy: 0.596600\n",
      "Epoch 37, CIFAR-10 Batch 1:  Loss:     0.1431 Validation Accuracy: 0.593200\n",
      "Epoch 38, CIFAR-10 Batch 1:  Loss:     0.1622 Validation Accuracy: 0.580800\n",
      "Epoch 39, CIFAR-10 Batch 1:  Loss:     0.0870 Validation Accuracy: 0.594000\n",
      "Epoch 40, CIFAR-10 Batch 1:  Loss:     0.0917 Validation Accuracy: 0.599600\n",
      "Epoch 41, CIFAR-10 Batch 1:  Loss:     0.0859 Validation Accuracy: 0.595200\n",
      "Epoch 42, CIFAR-10 Batch 1:  Loss:     0.1160 Validation Accuracy: 0.601400\n",
      "Epoch 43, CIFAR-10 Batch 1:  Loss:     0.1742 Validation Accuracy: 0.597000\n",
      "Epoch 44, CIFAR-10 Batch 1:  Loss:     0.1160 Validation Accuracy: 0.610400\n",
      "Epoch 45, CIFAR-10 Batch 1:  Loss:     0.0612 Validation Accuracy: 0.606200\n",
      "Epoch 46, CIFAR-10 Batch 1:  Loss:     0.0399 Validation Accuracy: 0.609400\n",
      "Epoch 47, CIFAR-10 Batch 1:  Loss:     0.0696 Validation Accuracy: 0.612400\n",
      "Epoch 48, CIFAR-10 Batch 1:  Loss:     0.0228 Validation Accuracy: 0.598600\n",
      "Epoch 49, CIFAR-10 Batch 1:  Loss:     0.0679 Validation Accuracy: 0.606600\n",
      "Epoch 50, CIFAR-10 Batch 1:  Loss:     0.1304 Validation Accuracy: 0.610000\n"
     ]
    }
   ],
   "source": [
    "\"\"\"\n",
    "DON'T MODIFY ANYTHING IN THIS CELL\n",
    "\"\"\"\n",
    "print('Checking the Training on a Single Batch...')\n",
    "with tf.Session() as sess:\n",
    "    # Initializing the variables\n",
    "    sess.run(tf.global_variables_initializer())\n",
    "    \n",
    "    # Training cycle\n",
    "    for epoch in range(epochs):\n",
    "        batch_i = 1\n",
    "        for batch_features, batch_labels in helper.load_preprocess_training_batch(batch_i, batch_size):\n",
    "            train_neural_network(sess, optimizer, keep_probability, batch_features, batch_labels)\n",
    "        print('Epoch {:>2}, CIFAR-10 Batch {}:  '.format(epoch + 1, batch_i), end='')\n",
    "        print_stats(sess, batch_features, batch_labels, cost, accuracy)"
   ]
  },
  {
   "cell_type": "markdown",
   "metadata": {
    "deletable": true,
    "editable": true
   },
   "source": [
    "### Fully Train the Model\n",
    "Now that you got a good accuracy with a single CIFAR-10 batch, try it with all five batches."
   ]
  },
  {
   "cell_type": "code",
   "execution_count": 82,
   "metadata": {
    "collapsed": false,
    "deletable": true,
    "editable": true
   },
   "outputs": [
    {
     "name": "stdout",
     "output_type": "stream",
     "text": [
      "Training...\n",
      "Epoch  1, CIFAR-10 Batch 1:  Loss:     2.2426 Validation Accuracy: 0.232800\n",
      "Epoch  1, CIFAR-10 Batch 2:  Loss:     1.7631 Validation Accuracy: 0.351000\n",
      "Epoch  1, CIFAR-10 Batch 3:  Loss:     1.4511 Validation Accuracy: 0.402600\n",
      "Epoch  1, CIFAR-10 Batch 4:  Loss:     1.5759 Validation Accuracy: 0.438200\n",
      "Epoch  1, CIFAR-10 Batch 5:  Loss:     1.5801 Validation Accuracy: 0.477800\n",
      "Epoch  2, CIFAR-10 Batch 1:  Loss:     1.7589 Validation Accuracy: 0.500000\n",
      "Epoch  2, CIFAR-10 Batch 2:  Loss:     1.4753 Validation Accuracy: 0.491400\n",
      "Epoch  2, CIFAR-10 Batch 3:  Loss:     1.1649 Validation Accuracy: 0.517200\n",
      "Epoch  2, CIFAR-10 Batch 4:  Loss:     1.3836 Validation Accuracy: 0.523800\n",
      "Epoch  2, CIFAR-10 Batch 5:  Loss:     1.3543 Validation Accuracy: 0.555800\n",
      "Epoch  3, CIFAR-10 Batch 1:  Loss:     1.6647 Validation Accuracy: 0.563400\n",
      "Epoch  3, CIFAR-10 Batch 2:  Loss:     1.2386 Validation Accuracy: 0.560000\n",
      "Epoch  3, CIFAR-10 Batch 3:  Loss:     0.9683 Validation Accuracy: 0.567400\n",
      "Epoch  3, CIFAR-10 Batch 4:  Loss:     1.1197 Validation Accuracy: 0.567000\n",
      "Epoch  3, CIFAR-10 Batch 5:  Loss:     1.2495 Validation Accuracy: 0.594200\n",
      "Epoch  4, CIFAR-10 Batch 1:  Loss:     1.2201 Validation Accuracy: 0.602800\n",
      "Epoch  4, CIFAR-10 Batch 2:  Loss:     1.1142 Validation Accuracy: 0.597200\n",
      "Epoch  4, CIFAR-10 Batch 3:  Loss:     0.9174 Validation Accuracy: 0.599800\n",
      "Epoch  4, CIFAR-10 Batch 4:  Loss:     1.0438 Validation Accuracy: 0.610400\n",
      "Epoch  4, CIFAR-10 Batch 5:  Loss:     1.0554 Validation Accuracy: 0.625600\n",
      "Epoch  5, CIFAR-10 Batch 1:  Loss:     1.1535 Validation Accuracy: 0.637600\n",
      "Epoch  5, CIFAR-10 Batch 2:  Loss:     0.9326 Validation Accuracy: 0.631600\n",
      "Epoch  5, CIFAR-10 Batch 3:  Loss:     0.8528 Validation Accuracy: 0.636000\n",
      "Epoch  5, CIFAR-10 Batch 4:  Loss:     0.8558 Validation Accuracy: 0.624600\n",
      "Epoch  5, CIFAR-10 Batch 5:  Loss:     1.0913 Validation Accuracy: 0.630600\n",
      "Epoch  6, CIFAR-10 Batch 1:  Loss:     1.0677 Validation Accuracy: 0.656600\n",
      "Epoch  6, CIFAR-10 Batch 2:  Loss:     0.9084 Validation Accuracy: 0.646600\n",
      "Epoch  6, CIFAR-10 Batch 3:  Loss:     0.7419 Validation Accuracy: 0.646600\n",
      "Epoch  6, CIFAR-10 Batch 4:  Loss:     0.7167 Validation Accuracy: 0.647200\n",
      "Epoch  6, CIFAR-10 Batch 5:  Loss:     0.8113 Validation Accuracy: 0.661400\n",
      "Epoch  7, CIFAR-10 Batch 1:  Loss:     0.9977 Validation Accuracy: 0.664200\n",
      "Epoch  7, CIFAR-10 Batch 2:  Loss:     0.9274 Validation Accuracy: 0.661600\n",
      "Epoch  7, CIFAR-10 Batch 3:  Loss:     0.6092 Validation Accuracy: 0.665200\n",
      "Epoch  7, CIFAR-10 Batch 4:  Loss:     0.8360 Validation Accuracy: 0.658400\n",
      "Epoch  7, CIFAR-10 Batch 5:  Loss:     0.8011 Validation Accuracy: 0.671200\n",
      "Epoch  8, CIFAR-10 Batch 1:  Loss:     0.9817 Validation Accuracy: 0.683800\n",
      "Epoch  8, CIFAR-10 Batch 2:  Loss:     0.8340 Validation Accuracy: 0.677000\n",
      "Epoch  8, CIFAR-10 Batch 3:  Loss:     0.6716 Validation Accuracy: 0.678400\n",
      "Epoch  8, CIFAR-10 Batch 4:  Loss:     0.6361 Validation Accuracy: 0.668800\n",
      "Epoch  8, CIFAR-10 Batch 5:  Loss:     0.6761 Validation Accuracy: 0.682800\n",
      "Epoch  9, CIFAR-10 Batch 1:  Loss:     0.9147 Validation Accuracy: 0.692800\n",
      "Epoch  9, CIFAR-10 Batch 2:  Loss:     0.8039 Validation Accuracy: 0.682400\n",
      "Epoch  9, CIFAR-10 Batch 3:  Loss:     0.5391 Validation Accuracy: 0.669600\n",
      "Epoch  9, CIFAR-10 Batch 4:  Loss:     0.6791 Validation Accuracy: 0.681400\n",
      "Epoch  9, CIFAR-10 Batch 5:  Loss:     0.6557 Validation Accuracy: 0.684000\n",
      "Epoch 10, CIFAR-10 Batch 1:  Loss:     0.8330 Validation Accuracy: 0.690800\n",
      "Epoch 10, CIFAR-10 Batch 2:  Loss:     0.5497 Validation Accuracy: 0.695800\n",
      "Epoch 10, CIFAR-10 Batch 3:  Loss:     0.4365 Validation Accuracy: 0.670200\n",
      "Epoch 10, CIFAR-10 Batch 4:  Loss:     0.7205 Validation Accuracy: 0.693200\n",
      "Epoch 10, CIFAR-10 Batch 5:  Loss:     0.5102 Validation Accuracy: 0.682800\n",
      "Epoch 11, CIFAR-10 Batch 1:  Loss:     0.6854 Validation Accuracy: 0.700000\n",
      "Epoch 11, CIFAR-10 Batch 2:  Loss:     0.7323 Validation Accuracy: 0.689800\n",
      "Epoch 11, CIFAR-10 Batch 3:  Loss:     0.5411 Validation Accuracy: 0.694400\n",
      "Epoch 11, CIFAR-10 Batch 4:  Loss:     0.7001 Validation Accuracy: 0.702800\n",
      "Epoch 11, CIFAR-10 Batch 5:  Loss:     0.5630 Validation Accuracy: 0.708400\n",
      "Epoch 12, CIFAR-10 Batch 1:  Loss:     0.6358 Validation Accuracy: 0.701000\n",
      "Epoch 12, CIFAR-10 Batch 2:  Loss:     0.7214 Validation Accuracy: 0.695400\n",
      "Epoch 12, CIFAR-10 Batch 3:  Loss:     0.4976 Validation Accuracy: 0.710400\n",
      "Epoch 12, CIFAR-10 Batch 4:  Loss:     0.5157 Validation Accuracy: 0.715000\n",
      "Epoch 12, CIFAR-10 Batch 5:  Loss:     0.5152 Validation Accuracy: 0.701000\n",
      "Epoch 13, CIFAR-10 Batch 1:  Loss:     0.4520 Validation Accuracy: 0.704200\n",
      "Epoch 13, CIFAR-10 Batch 2:  Loss:     0.6888 Validation Accuracy: 0.709200\n",
      "Epoch 13, CIFAR-10 Batch 3:  Loss:     0.4768 Validation Accuracy: 0.698000\n",
      "Epoch 13, CIFAR-10 Batch 4:  Loss:     0.5171 Validation Accuracy: 0.705000\n",
      "Epoch 13, CIFAR-10 Batch 5:  Loss:     0.5323 Validation Accuracy: 0.711000\n",
      "Epoch 14, CIFAR-10 Batch 1:  Loss:     0.4548 Validation Accuracy: 0.705200\n",
      "Epoch 14, CIFAR-10 Batch 2:  Loss:     0.5567 Validation Accuracy: 0.713800\n",
      "Epoch 14, CIFAR-10 Batch 3:  Loss:     0.3652 Validation Accuracy: 0.716400\n",
      "Epoch 14, CIFAR-10 Batch 4:  Loss:     0.5280 Validation Accuracy: 0.715600\n",
      "Epoch 14, CIFAR-10 Batch 5:  Loss:     0.5116 Validation Accuracy: 0.715400\n",
      "Epoch 15, CIFAR-10 Batch 1:  Loss:     0.4667 Validation Accuracy: 0.712000\n",
      "Epoch 15, CIFAR-10 Batch 2:  Loss:     0.5616 Validation Accuracy: 0.711400\n",
      "Epoch 15, CIFAR-10 Batch 3:  Loss:     0.4144 Validation Accuracy: 0.718600\n",
      "Epoch 15, CIFAR-10 Batch 4:  Loss:     0.4604 Validation Accuracy: 0.713000\n",
      "Epoch 15, CIFAR-10 Batch 5:  Loss:     0.4812 Validation Accuracy: 0.714800\n",
      "Epoch 16, CIFAR-10 Batch 1:  Loss:     0.6345 Validation Accuracy: 0.710600\n",
      "Epoch 16, CIFAR-10 Batch 2:  Loss:     0.4032 Validation Accuracy: 0.718000\n",
      "Epoch 16, CIFAR-10 Batch 3:  Loss:     0.3457 Validation Accuracy: 0.721600\n",
      "Epoch 16, CIFAR-10 Batch 4:  Loss:     0.5016 Validation Accuracy: 0.728000\n",
      "Epoch 16, CIFAR-10 Batch 5:  Loss:     0.4566 Validation Accuracy: 0.708000\n",
      "Epoch 17, CIFAR-10 Batch 1:  Loss:     0.5300 Validation Accuracy: 0.717000\n",
      "Epoch 17, CIFAR-10 Batch 2:  Loss:     0.5120 Validation Accuracy: 0.718400\n",
      "Epoch 17, CIFAR-10 Batch 3:  Loss:     0.3709 Validation Accuracy: 0.723600\n",
      "Epoch 17, CIFAR-10 Batch 4:  Loss:     0.4487 Validation Accuracy: 0.731400\n",
      "Epoch 17, CIFAR-10 Batch 5:  Loss:     0.5219 Validation Accuracy: 0.719200\n",
      "Epoch 18, CIFAR-10 Batch 1:  Loss:     0.7170 Validation Accuracy: 0.730400\n",
      "Epoch 18, CIFAR-10 Batch 2:  Loss:     0.4800 Validation Accuracy: 0.725800\n",
      "Epoch 18, CIFAR-10 Batch 3:  Loss:     0.3721 Validation Accuracy: 0.725800\n",
      "Epoch 18, CIFAR-10 Batch 4:  Loss:     0.3482 Validation Accuracy: 0.738400\n",
      "Epoch 18, CIFAR-10 Batch 5:  Loss:     0.5741 Validation Accuracy: 0.725400\n",
      "Epoch 19, CIFAR-10 Batch 1:  Loss:     0.5782 Validation Accuracy: 0.728600\n",
      "Epoch 19, CIFAR-10 Batch 2:  Loss:     0.4356 Validation Accuracy: 0.728800\n",
      "Epoch 19, CIFAR-10 Batch 3:  Loss:     0.3450 Validation Accuracy: 0.734600\n",
      "Epoch 19, CIFAR-10 Batch 4:  Loss:     0.6789 Validation Accuracy: 0.731800\n",
      "Epoch 19, CIFAR-10 Batch 5:  Loss:     0.4562 Validation Accuracy: 0.729000\n",
      "Epoch 20, CIFAR-10 Batch 1:  Loss:     0.3617 Validation Accuracy: 0.728200\n",
      "Epoch 20, CIFAR-10 Batch 2:  Loss:     0.5938 Validation Accuracy: 0.734600\n",
      "Epoch 20, CIFAR-10 Batch 3:  Loss:     0.2472 Validation Accuracy: 0.730400\n",
      "Epoch 20, CIFAR-10 Batch 4:  Loss:     0.3594 Validation Accuracy: 0.729400\n",
      "Epoch 20, CIFAR-10 Batch 5:  Loss:     0.2482 Validation Accuracy: 0.728400\n",
      "Epoch 21, CIFAR-10 Batch 1:  Loss:     0.3494 Validation Accuracy: 0.736600\n",
      "Epoch 21, CIFAR-10 Batch 2:  Loss:     0.4264 Validation Accuracy: 0.724200\n",
      "Epoch 21, CIFAR-10 Batch 3:  Loss:     0.4001 Validation Accuracy: 0.742400\n",
      "Epoch 21, CIFAR-10 Batch 4:  Loss:     0.4978 Validation Accuracy: 0.735000\n",
      "Epoch 21, CIFAR-10 Batch 5:  Loss:     0.4977 Validation Accuracy: 0.732200\n",
      "Epoch 22, CIFAR-10 Batch 1:  Loss:     0.3425 Validation Accuracy: 0.735000\n",
      "Epoch 22, CIFAR-10 Batch 2:  Loss:     0.3824 Validation Accuracy: 0.735200\n",
      "Epoch 22, CIFAR-10 Batch 3:  Loss:     0.3189 Validation Accuracy: 0.732400\n",
      "Epoch 22, CIFAR-10 Batch 4:  Loss:     0.3105 Validation Accuracy: 0.734400\n",
      "Epoch 22, CIFAR-10 Batch 5:  Loss:     0.2658 Validation Accuracy: 0.736000\n",
      "Epoch 23, CIFAR-10 Batch 1:  Loss:     0.2993 Validation Accuracy: 0.727400\n",
      "Epoch 23, CIFAR-10 Batch 2:  Loss:     0.3669 Validation Accuracy: 0.725000\n",
      "Epoch 23, CIFAR-10 Batch 3:  Loss:     0.2401 Validation Accuracy: 0.729400\n",
      "Epoch 23, CIFAR-10 Batch 4:  Loss:     0.2578 Validation Accuracy: 0.730800\n",
      "Epoch 23, CIFAR-10 Batch 5:  Loss:     0.2378 Validation Accuracy: 0.728800\n",
      "Epoch 24, CIFAR-10 Batch 1:  Loss:     0.3396 Validation Accuracy: 0.728800\n",
      "Epoch 24, CIFAR-10 Batch 2:  Loss:     0.3237 Validation Accuracy: 0.727800\n",
      "Epoch 24, CIFAR-10 Batch 3:  Loss:     0.3035 Validation Accuracy: 0.735000\n",
      "Epoch 24, CIFAR-10 Batch 4:  Loss:     0.4811 Validation Accuracy: 0.738600\n",
      "Epoch 24, CIFAR-10 Batch 5:  Loss:     0.3479 Validation Accuracy: 0.738800\n",
      "Epoch 25, CIFAR-10 Batch 1:  Loss:     0.2593 Validation Accuracy: 0.740400\n",
      "Epoch 25, CIFAR-10 Batch 2:  Loss:     0.3244 Validation Accuracy: 0.729200\n",
      "Epoch 25, CIFAR-10 Batch 3:  Loss:     0.3036 Validation Accuracy: 0.736200\n",
      "Epoch 25, CIFAR-10 Batch 4:  Loss:     0.2449 Validation Accuracy: 0.740200\n",
      "Epoch 25, CIFAR-10 Batch 5:  Loss:     0.2857 Validation Accuracy: 0.740600\n",
      "Epoch 26, CIFAR-10 Batch 1:  Loss:     0.3205 Validation Accuracy: 0.739400\n",
      "Epoch 26, CIFAR-10 Batch 2:  Loss:     0.3519 Validation Accuracy: 0.741200\n",
      "Epoch 26, CIFAR-10 Batch 3:  Loss:     0.1863 Validation Accuracy: 0.737800\n",
      "Epoch 26, CIFAR-10 Batch 4:  Loss:     0.2897 Validation Accuracy: 0.737800\n",
      "Epoch 26, CIFAR-10 Batch 5:  Loss:     0.2420 Validation Accuracy: 0.730800\n",
      "Epoch 27, CIFAR-10 Batch 1:  Loss:     0.2965 Validation Accuracy: 0.739000\n",
      "Epoch 27, CIFAR-10 Batch 2:  Loss:     0.3804 Validation Accuracy: 0.727600\n",
      "Epoch 27, CIFAR-10 Batch 3:  Loss:     0.3567 Validation Accuracy: 0.737200\n",
      "Epoch 27, CIFAR-10 Batch 4:  Loss:     0.1878 Validation Accuracy: 0.732600\n",
      "Epoch 27, CIFAR-10 Batch 5:  Loss:     0.2615 Validation Accuracy: 0.736800\n",
      "Epoch 28, CIFAR-10 Batch 1:  Loss:     0.2866 Validation Accuracy: 0.734600\n",
      "Epoch 28, CIFAR-10 Batch 2:  Loss:     0.3487 Validation Accuracy: 0.730000\n",
      "Epoch 28, CIFAR-10 Batch 3:  Loss:     0.2573 Validation Accuracy: 0.731600\n",
      "Epoch 28, CIFAR-10 Batch 4:  Loss:     0.3392 Validation Accuracy: 0.735800\n",
      "Epoch 28, CIFAR-10 Batch 5:  Loss:     0.3246 Validation Accuracy: 0.737200\n",
      "Epoch 29, CIFAR-10 Batch 1:  Loss:     0.3673 Validation Accuracy: 0.745200\n",
      "Epoch 29, CIFAR-10 Batch 2:  Loss:     0.2465 Validation Accuracy: 0.740800\n",
      "Epoch 29, CIFAR-10 Batch 3:  Loss:     0.3451 Validation Accuracy: 0.730800\n",
      "Epoch 29, CIFAR-10 Batch 4:  Loss:     0.3177 Validation Accuracy: 0.734800\n",
      "Epoch 29, CIFAR-10 Batch 5:  Loss:     0.2796 Validation Accuracy: 0.734200\n",
      "Epoch 30, CIFAR-10 Batch 1:  Loss:     0.3063 Validation Accuracy: 0.743800\n",
      "Epoch 30, CIFAR-10 Batch 2:  Loss:     0.2325 Validation Accuracy: 0.739000\n",
      "Epoch 30, CIFAR-10 Batch 3:  Loss:     0.2150 Validation Accuracy: 0.734400\n",
      "Epoch 30, CIFAR-10 Batch 4:  Loss:     0.3499 Validation Accuracy: 0.739800\n",
      "Epoch 30, CIFAR-10 Batch 5:  Loss:     0.2737 Validation Accuracy: 0.740800\n",
      "Epoch 31, CIFAR-10 Batch 1:  Loss:     0.2859 Validation Accuracy: 0.729800\n",
      "Epoch 31, CIFAR-10 Batch 2:  Loss:     0.4208 Validation Accuracy: 0.735600\n",
      "Epoch 31, CIFAR-10 Batch 3:  Loss:     0.3458 Validation Accuracy: 0.746800\n",
      "Epoch 31, CIFAR-10 Batch 4:  Loss:     0.2938 Validation Accuracy: 0.746800\n",
      "Epoch 31, CIFAR-10 Batch 5:  Loss:     0.2242 Validation Accuracy: 0.736000\n",
      "Epoch 32, CIFAR-10 Batch 1:  Loss:     0.3208 Validation Accuracy: 0.740600\n",
      "Epoch 32, CIFAR-10 Batch 2:  Loss:     0.2261 Validation Accuracy: 0.734600\n",
      "Epoch 32, CIFAR-10 Batch 3:  Loss:     0.1704 Validation Accuracy: 0.743200\n",
      "Epoch 32, CIFAR-10 Batch 4:  Loss:     0.2424 Validation Accuracy: 0.744400\n",
      "Epoch 32, CIFAR-10 Batch 5:  Loss:     0.1880 Validation Accuracy: 0.739200\n",
      "Epoch 33, CIFAR-10 Batch 1:  Loss:     0.2054 Validation Accuracy: 0.743600\n",
      "Epoch 33, CIFAR-10 Batch 2:  Loss:     0.3779 Validation Accuracy: 0.739000\n",
      "Epoch 33, CIFAR-10 Batch 3:  Loss:     0.3408 Validation Accuracy: 0.743000\n",
      "Epoch 33, CIFAR-10 Batch 4:  Loss:     0.2491 Validation Accuracy: 0.737400\n",
      "Epoch 33, CIFAR-10 Batch 5:  Loss:     0.2512 Validation Accuracy: 0.744000\n",
      "Epoch 34, CIFAR-10 Batch 1:  Loss:     0.5436 Validation Accuracy: 0.748200\n",
      "Epoch 34, CIFAR-10 Batch 2:  Loss:     0.1249 Validation Accuracy: 0.746800\n",
      "Epoch 34, CIFAR-10 Batch 3:  Loss:     0.1917 Validation Accuracy: 0.749600\n",
      "Epoch 34, CIFAR-10 Batch 4:  Loss:     0.1947 Validation Accuracy: 0.749800\n",
      "Epoch 34, CIFAR-10 Batch 5:  Loss:     0.2714 Validation Accuracy: 0.736000\n",
      "Epoch 35, CIFAR-10 Batch 1:  Loss:     0.3468 Validation Accuracy: 0.750600\n",
      "Epoch 35, CIFAR-10 Batch 2:  Loss:     0.3292 Validation Accuracy: 0.735200\n",
      "Epoch 35, CIFAR-10 Batch 3:  Loss:     0.2429 Validation Accuracy: 0.754800\n",
      "Epoch 35, CIFAR-10 Batch 4:  Loss:     0.2446 Validation Accuracy: 0.753800\n",
      "Epoch 35, CIFAR-10 Batch 5:  Loss:     0.2689 Validation Accuracy: 0.747400\n",
      "Epoch 36, CIFAR-10 Batch 1:  Loss:     0.3233 Validation Accuracy: 0.745800\n",
      "Epoch 36, CIFAR-10 Batch 2:  Loss:     0.3752 Validation Accuracy: 0.741800\n",
      "Epoch 36, CIFAR-10 Batch 3:  Loss:     0.2424 Validation Accuracy: 0.747200\n",
      "Epoch 36, CIFAR-10 Batch 4:  Loss:     0.0956 Validation Accuracy: 0.743400\n",
      "Epoch 36, CIFAR-10 Batch 5:  Loss:     0.3267 Validation Accuracy: 0.748600\n",
      "Epoch 37, CIFAR-10 Batch 1:  Loss:     0.3093 Validation Accuracy: 0.748600\n",
      "Epoch 37, CIFAR-10 Batch 2:  Loss:     0.1490 Validation Accuracy: 0.741400\n",
      "Epoch 37, CIFAR-10 Batch 3:  Loss:     0.1970 Validation Accuracy: 0.744800\n",
      "Epoch 37, CIFAR-10 Batch 4:  Loss:     0.1930 Validation Accuracy: 0.747600\n",
      "Epoch 37, CIFAR-10 Batch 5:  Loss:     0.2334 Validation Accuracy: 0.747000\n",
      "Epoch 38, CIFAR-10 Batch 1:  Loss:     0.3734 Validation Accuracy: 0.739200\n",
      "Epoch 38, CIFAR-10 Batch 2:  Loss:     0.2214 Validation Accuracy: 0.740200\n",
      "Epoch 38, CIFAR-10 Batch 3:  Loss:     0.2846 Validation Accuracy: 0.750200\n",
      "Epoch 38, CIFAR-10 Batch 4:  Loss:     0.2088 Validation Accuracy: 0.743200\n",
      "Epoch 38, CIFAR-10 Batch 5:  Loss:     0.2112 Validation Accuracy: 0.745000\n",
      "Epoch 39, CIFAR-10 Batch 1:  Loss:     0.1899 Validation Accuracy: 0.742400\n",
      "Epoch 39, CIFAR-10 Batch 2:  Loss:     0.4124 Validation Accuracy: 0.736200\n",
      "Epoch 39, CIFAR-10 Batch 3:  Loss:     0.3694 Validation Accuracy: 0.744600\n",
      "Epoch 39, CIFAR-10 Batch 4:  Loss:     0.1740 Validation Accuracy: 0.751400\n",
      "Epoch 39, CIFAR-10 Batch 5:  Loss:     0.1555 Validation Accuracy: 0.746000\n",
      "Epoch 40, CIFAR-10 Batch 1:  Loss:     0.0883 Validation Accuracy: 0.749400\n",
      "Epoch 40, CIFAR-10 Batch 2:  Loss:     0.2119 Validation Accuracy: 0.743200\n",
      "Epoch 40, CIFAR-10 Batch 3:  Loss:     0.2772 Validation Accuracy: 0.745400\n",
      "Epoch 40, CIFAR-10 Batch 4:  Loss:     0.2361 Validation Accuracy: 0.747400\n",
      "Epoch 40, CIFAR-10 Batch 5:  Loss:     0.3380 Validation Accuracy: 0.745800\n",
      "Epoch 41, CIFAR-10 Batch 1:  Loss:     0.1309 Validation Accuracy: 0.739800\n",
      "Epoch 41, CIFAR-10 Batch 2:  Loss:     0.2386 Validation Accuracy: 0.732400\n",
      "Epoch 41, CIFAR-10 Batch 3:  Loss:     0.1394 Validation Accuracy: 0.740600\n",
      "Epoch 41, CIFAR-10 Batch 4:  Loss:     0.4492 Validation Accuracy: 0.738800\n",
      "Epoch 41, CIFAR-10 Batch 5:  Loss:     0.3370 Validation Accuracy: 0.747000\n",
      "Epoch 42, CIFAR-10 Batch 1:  Loss:     0.2059 Validation Accuracy: 0.748200\n",
      "Epoch 42, CIFAR-10 Batch 2:  Loss:     0.2182 Validation Accuracy: 0.742400\n",
      "Epoch 42, CIFAR-10 Batch 3:  Loss:     0.1695 Validation Accuracy: 0.752800\n",
      "Epoch 42, CIFAR-10 Batch 4:  Loss:     0.2254 Validation Accuracy: 0.745600\n",
      "Epoch 42, CIFAR-10 Batch 5:  Loss:     0.1732 Validation Accuracy: 0.747600\n",
      "Epoch 43, CIFAR-10 Batch 1:  Loss:     0.2597 Validation Accuracy: 0.747800\n",
      "Epoch 43, CIFAR-10 Batch 2:  Loss:     0.3057 Validation Accuracy: 0.742400\n",
      "Epoch 43, CIFAR-10 Batch 3:  Loss:     0.1339 Validation Accuracy: 0.746200\n",
      "Epoch 43, CIFAR-10 Batch 4:  Loss:     0.3988 Validation Accuracy: 0.755000\n",
      "Epoch 43, CIFAR-10 Batch 5:  Loss:     0.1075 Validation Accuracy: 0.749200\n",
      "Epoch 44, CIFAR-10 Batch 1:  Loss:     0.1639 Validation Accuracy: 0.751200\n",
      "Epoch 44, CIFAR-10 Batch 2:  Loss:     0.1708 Validation Accuracy: 0.744800\n",
      "Epoch 44, CIFAR-10 Batch 3:  Loss:     0.1642 Validation Accuracy: 0.748600\n",
      "Epoch 44, CIFAR-10 Batch 4:  Loss:     0.1018 Validation Accuracy: 0.748600\n",
      "Epoch 44, CIFAR-10 Batch 5:  Loss:     0.2204 Validation Accuracy: 0.748600\n",
      "Epoch 45, CIFAR-10 Batch 1:  Loss:     0.2818 Validation Accuracy: 0.742800\n",
      "Epoch 45, CIFAR-10 Batch 2:  Loss:     0.3115 Validation Accuracy: 0.743000\n",
      "Epoch 45, CIFAR-10 Batch 3:  Loss:     0.1180 Validation Accuracy: 0.750400\n",
      "Epoch 45, CIFAR-10 Batch 4:  Loss:     0.1985 Validation Accuracy: 0.750400\n",
      "Epoch 45, CIFAR-10 Batch 5:  Loss:     0.1350 Validation Accuracy: 0.741600\n",
      "Epoch 46, CIFAR-10 Batch 1:  Loss:     0.2294 Validation Accuracy: 0.747600\n",
      "Epoch 46, CIFAR-10 Batch 2:  Loss:     0.2418 Validation Accuracy: 0.745800\n",
      "Epoch 46, CIFAR-10 Batch 3:  Loss:     0.2566 Validation Accuracy: 0.749400\n",
      "Epoch 46, CIFAR-10 Batch 4:  Loss:     0.1867 Validation Accuracy: 0.749400\n",
      "Epoch 46, CIFAR-10 Batch 5:  Loss:     0.1538 Validation Accuracy: 0.755200\n",
      "Epoch 47, CIFAR-10 Batch 1:  Loss:     0.0960 Validation Accuracy: 0.741600\n",
      "Epoch 47, CIFAR-10 Batch 2:  Loss:     0.2732 Validation Accuracy: 0.744600\n",
      "Epoch 47, CIFAR-10 Batch 3:  Loss:     0.2137 Validation Accuracy: 0.755800\n",
      "Epoch 47, CIFAR-10 Batch 4:  Loss:     0.1776 Validation Accuracy: 0.746400\n",
      "Epoch 47, CIFAR-10 Batch 5:  Loss:     0.3596 Validation Accuracy: 0.750000\n",
      "Epoch 48, CIFAR-10 Batch 1:  Loss:     0.2647 Validation Accuracy: 0.741600\n",
      "Epoch 48, CIFAR-10 Batch 2:  Loss:     0.1758 Validation Accuracy: 0.747000\n",
      "Epoch 48, CIFAR-10 Batch 3:  Loss:     0.1616 Validation Accuracy: 0.748000\n",
      "Epoch 48, CIFAR-10 Batch 4:  Loss:     0.1540 Validation Accuracy: 0.751200\n",
      "Epoch 48, CIFAR-10 Batch 5:  Loss:     0.1792 Validation Accuracy: 0.746200\n",
      "Epoch 49, CIFAR-10 Batch 1:  Loss:     0.1528 Validation Accuracy: 0.741400\n",
      "Epoch 49, CIFAR-10 Batch 2:  Loss:     0.0883 Validation Accuracy: 0.740400\n",
      "Epoch 49, CIFAR-10 Batch 3:  Loss:     0.3703 Validation Accuracy: 0.759800\n",
      "Epoch 49, CIFAR-10 Batch 4:  Loss:     0.2111 Validation Accuracy: 0.745400\n",
      "Epoch 49, CIFAR-10 Batch 5:  Loss:     0.2233 Validation Accuracy: 0.748600\n",
      "Epoch 50, CIFAR-10 Batch 1:  Loss:     0.1542 Validation Accuracy: 0.748000\n",
      "Epoch 50, CIFAR-10 Batch 2:  Loss:     0.1711 Validation Accuracy: 0.743400\n",
      "Epoch 50, CIFAR-10 Batch 3:  Loss:     0.2469 Validation Accuracy: 0.752200\n",
      "Epoch 50, CIFAR-10 Batch 4:  Loss:     0.2158 Validation Accuracy: 0.750000\n",
      "Epoch 50, CIFAR-10 Batch 5:  Loss:     0.1421 Validation Accuracy: 0.753400\n"
     ]
    }
   ],
   "source": [
    "\"\"\"\n",
    "DON'T MODIFY ANYTHING IN THIS CELL\n",
    "\"\"\"\n",
    "save_model_path = './image_classification'\n",
    "\n",
    "print('Training...')\n",
    "with tf.Session() as sess:\n",
    "    # Initializing the variables\n",
    "    sess.run(tf.global_variables_initializer())\n",
    "    \n",
    "    # Training cycle\n",
    "    for epoch in range(epochs):\n",
    "        # Loop over all batches\n",
    "        n_batches = 5\n",
    "        for batch_i in range(1, n_batches + 1):\n",
    "            for batch_features, batch_labels in helper.load_preprocess_training_batch(batch_i, batch_size):\n",
    "                train_neural_network(sess, optimizer, keep_probability, batch_features, batch_labels)\n",
    "            print('Epoch {:>2}, CIFAR-10 Batch {}:  '.format(epoch + 1, batch_i), end='')\n",
    "            print_stats(sess, batch_features, batch_labels, cost, accuracy)\n",
    "            \n",
    "    # Save Model\n",
    "    saver = tf.train.Saver()\n",
    "    save_path = saver.save(sess, save_model_path)"
   ]
  },
  {
   "cell_type": "markdown",
   "metadata": {
    "deletable": true,
    "editable": true
   },
   "source": [
    "# Checkpoint\n",
    "The model has been saved to disk.\n",
    "## Test Model\n",
    "Test your model against the test dataset.  This will be your final accuracy. You should have an accuracy greater than 50%. If you don't, keep tweaking the model architecture and parameters."
   ]
  },
  {
   "cell_type": "code",
   "execution_count": 83,
   "metadata": {
    "collapsed": false,
    "deletable": true,
    "editable": true
   },
   "outputs": [
    {
     "name": "stdout",
     "output_type": "stream",
     "text": [
      "Testing Accuracy: 0.7471321202531646\n",
      "\n"
     ]
    },
    {
     "data": {
      "image/png": "[encoded data removed]",
      "text/plain": [
       "<matplotlib.figure.Figure at 0x7ff32b4774e0>"
      ]
     },
     "metadata": {
      "image/png": {
       "height": 319,
       "width": 355
      }
     },
     "output_type": "display_data"
    }
   ],
   "source": [
    "\"\"\"\n",
    "DON'T MODIFY ANYTHING IN THIS CELL\n",
    "\"\"\"\n",
    "%matplotlib inline\n",
    "%config InlineBackend.figure_format = 'retina'\n",
    "\n",
    "import tensorflow as tf\n",
    "import pickle\n",
    "import helper\n",
    "import random\n",
    "\n",
    "# Set batch size if not already set\n",
    "try:\n",
    "    if batch_size:\n",
    "        pass\n",
    "except NameError:\n",
    "    batch_size = 64\n",
    "\n",
    "save_model_path = './image_classification'\n",
    "n_samples = 4\n",
    "top_n_predictions = 3\n",
    "\n",
    "def test_model():\n",
    "    \"\"\"\n",
    "    Test the saved model against the test dataset\n",
    "    \"\"\"\n",
    "\n",
    "    test_features, test_labels = pickle.load(open('preprocess_training.p', mode='rb'))\n",
    "    loaded_graph = tf.Graph()\n",
    "\n",
    "    with tf.Session(graph=loaded_graph) as sess:\n",
    "        # Load model\n",
    "        loader = tf.train.import_meta_graph(save_model_path + '.meta')\n",
    "        loader.restore(sess, save_model_path)\n",
    "\n",
    "        # Get Tensors from loaded model\n",
    "        loaded_x = loaded_graph.get_tensor_by_name('x:0')\n",
    "        loaded_y = loaded_graph.get_tensor_by_name('y:0')\n",
    "        loaded_keep_prob = loaded_graph.get_tensor_by_name('keep_prob:0')\n",
    "        loaded_logits = loaded_graph.get_tensor_by_name('logits:0')\n",
    "        loaded_acc = loaded_graph.get_tensor_by_name('accuracy:0')\n",
    "        \n",
    "        # Get accuracy in batches for memory limitations\n",
    "        test_batch_acc_total = 0\n",
    "        test_batch_count = 0\n",
    "        \n",
    "        for train_feature_batch, train_label_batch in helper.batch_features_labels(test_features, test_labels, batch_size):\n",
    "            test_batch_acc_total += sess.run(\n",
    "                loaded_acc,\n",
    "                feed_dict={loaded_x: train_feature_batch, loaded_y: train_label_batch, loaded_keep_prob: 1.0})\n",
    "            test_batch_count += 1\n",
    "\n",
    "        print('Testing Accuracy: {}\\n'.format(test_batch_acc_total/test_batch_count))\n",
    "\n",
    "        # Print Random Samples\n",
    "        random_test_features, random_test_labels = tuple(zip(*random.sample(list(zip(test_features, test_labels)), n_samples)))\n",
    "        random_test_predictions = sess.run(\n",
    "            tf.nn.top_k(tf.nn.softmax(loaded_logits), top_n_predictions),\n",
    "            feed_dict={loaded_x: random_test_features, loaded_y: random_test_labels, loaded_keep_prob: 1.0})\n",
    "        helper.display_image_predictions(random_test_features, random_test_labels, random_test_predictions)\n",
    "\n",
    "\n",
    "test_model()"
   ]
  },
  {
   "cell_type": "markdown",
   "metadata": {
    "deletable": true,
    "editable": true
   },
   "source": [
    "## Why 50-70% Accuracy?\n",
    "You might be wondering why you can't get an accuracy any higher. First things first, 50% isn't bad for a simple CNN.  Pure guessing would get you 10% accuracy. However, you might notice people are getting scores [well above 70%](http://rodrigob.github.io/are_we_there_yet/build/classification_datasets_results.html#43494641522d3130).  That's because we haven't taught you all there is to know about neural networks. We still need to cover a few more techniques.\n",
    "## Submitting This Project\n",
    "When submitting this project, make sure to run all the cells before saving the notebook.  Save the notebook file as \"dlnd_image_classification.ipynb\" and save it as a HTML file under \"File\" -> \"Download as\".  Include the \"helper.py\" and \"problem_unittests.py\" files in your submission."
   ]
  }
 ],
 "metadata": {
  "kernelspec": {
   "display_name": "Python 3",
   "language": "python",
   "name": "python3"
  },
  "language_info": {
   "codemirror_mode": {
    "name": "ipython",
    "version": 3
   },
   "file_extension": ".py",
   "mimetype": "text/x-python",
   "name": "python",
   "nbconvert_exporter": "python",
   "pygments_lexer": "ipython3",
   "version": "3.5.3"
  }
 },
 "nbformat": 4,
 "nbformat_minor": 0
}
